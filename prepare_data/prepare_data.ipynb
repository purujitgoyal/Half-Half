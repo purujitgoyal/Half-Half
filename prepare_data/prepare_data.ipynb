{
 "cells": [
  {
   "cell_type": "code",
   "execution_count": 1,
   "metadata": {},
   "outputs": [],
   "source": [
    "import os\n",
    "import pandas as pd\n",
    "import numpy as np\n",
    "import json\n",
    "from sklearn import preprocessing    "
   ]
  },
  {
   "cell_type": "code",
   "execution_count": 5,
   "metadata": {},
   "outputs": [],
   "source": [
    "def writetrainann(file):\n",
    "    maxl = 0\n",
    "    columns = ['name', 'label']\n",
    "    names = []\n",
    "    labels = []\n",
    "    categories = []\n",
    "    with open(file, 'r') as f:\n",
    "        ann = json.loads(f.read())\n",
    "        for key in ann.keys():\n",
    "            img_dict = ann[key]\n",
    "            img_name = img_dict['name']\n",
    "            cat_list = img_dict['category']\n",
    "            maxl = max(maxl, len(cat_list))\n",
    "            categories.extend(cat_list)\n",
    "            \n",
    "            for cat in cat_list:\n",
    "                names.append(img_name)\n",
    "                labels.append(cat)\n",
    "                \n",
    "        data = pd.DataFrame(list(zip(names, labels)), columns=columns)\n",
    "        print('Maximum categories per image', maxl)\n",
    "        print('Total number of categories', len(set(categories)))\n",
    "        print('All categories', set(categories))\n",
    "        data.to_csv('../Data/train_ann.csv', index = False)                   "
   ]
  },
  {
   "cell_type": "code",
   "execution_count": 9,
   "metadata": {},
   "outputs": [
    {
     "name": "stdout",
     "output_type": "stream",
     "text": [
      "Maximum categories per image 9\n",
      "Total number of categories 79\n",
      "All categories {'frisbee', 'microwave', 'chair', 'orange', 'cup', 'keyboard', 'scissors', 'vase', 'hot dog', 'cell phone', 'stop sign', 'car', 'tv', 'laptop', 'skis', 'bottle', 'sink', 'broccoli', 'fork', 'book', 'horse', 'sports ball', 'tie', 'skateboard', 'truck', 'toothbrush', 'sandwich', 'cake', 'bowl', 'bicycle', 'dog', 'spoon', 'bird', 'apple', 'tennis racket', 'bear', 'suitcase', 'dining table', 'parking meter', 'couch', 'elephant', 'backpack', 'banana', 'remote', 'umbrella', 'sheep', 'clock', 'giraffe', 'wine glass', 'knife', 'bus', 'baseball bat', 'handbag', 'bed', 'cat', 'baseball glove', 'traffic light', 'kite', 'carrot', 'fire hydrant', 'hair drier', 'train', 'potted plant', 'teddy bear', 'donut', 'toaster', 'pizza', 'bench', 'surfboard', 'toilet', 'mouse', 'motorcycle', 'airplane', 'cow', 'zebra', 'refrigerator', 'snowboard', 'boat', 'oven'}\n"
     ]
    }
   ],
   "source": [
    "ann_dir = \"../../../Data/annotation\"\n",
    "train_fname = 'i2l_trainset_annotation.json'\n",
    "train_fname = os.path.join(ann_dir, train_fname)\n",
    "train_data = writetrainann(train_fname)"
   ]
  },
  {
   "cell_type": "code",
   "execution_count": 113,
   "metadata": {
    "scrolled": true
   },
   "outputs": [
    {
     "name": "stdout",
     "output_type": "stream",
     "text": [
      "Max Freq category: chair\n",
      "Min Freq category: bear\n",
      "Mean Freq: 599.620253164557\n"
     ]
    },
    {
     "data": {
      "image/png": "[encoded data removed]",
      "text/plain": [
       "<Figure size 432x288 with 1 Axes>"
      ]
     },
     "metadata": {},
     "output_type": "display_data"
    }
   ],
   "source": [
    "# Checking training examples per-class. Dataset Stats\n",
    "\n",
    "train_data = pd.read_csv('../Data/train_ann.csv')\n",
    "train_groups = train_data.groupby(['label'])\n",
    "count_df = train_groups.agg('count')\n",
    "\n",
    "print('Max Freq category:', train_data['label'].value_counts().idxmax())\n",
    "print('Min Freq category:',train_data['label'].value_counts().idxmin())\n",
    "print('Mean Freq:',train_data['label'].value_counts().mean())\n",
    "count_df = count_df.reset_index()\n",
    "\n",
    "count_df = count_df.rename(columns={\"name\": \"Frequency\", \"label\":\"Category\"})\n",
    "import matplotlib.pyplot as plt\n",
    "import seaborn as sns\n",
    "ax = sns.barplot(x = \"Category\", y = \"Frequency\", data = count_df)\n",
    "ax.set_xticklabels(ax.get_xticklabels(), fontsize=2)\n",
    "plt.savefig(\"cate.png\", dpi=300)"
   ]
  },
  {
   "cell_type": "code",
   "execution_count": null,
   "metadata": {},
   "outputs": [],
   "source": [
    "# Encoding labels (0-78)\n",
    "\n",
    "train_data = pd.read_csv('../Data/train_ann.csv')\n",
    "le = preprocessing.LabelEncoder()\n",
    "train_data['label_enc'] = le.fit_transform(train_data['label'])\n",
    "train_data.to_csv('../Data/train_ann_encoded.csv', index = False)   \n",
    "\n",
    "label_enc_dict = pd.Series(train_data.label_enc.values,index=train_data.label).to_dict()\n",
    "print(label_enc_dict)\n",
    "\n",
    "label_enc_json = json.dumps(label_enc_dict)\n",
    "f = open(\"../Data/labels.json\",\"w\")\n",
    "f.write(label_enc_json)\n",
    "f.close()"
   ]
  },
  {
   "cell_type": "code",
   "execution_count": 17,
   "metadata": {},
   "outputs": [],
   "source": [
    "def writeann_multilabel(file):\n",
    "    maxl = 0\n",
    "    columns = ['name', 'label']\n",
    "    names = []\n",
    "    labels = []\n",
    "    with open(file, 'r') as f:\n",
    "        ann = json.loads(f.read())\n",
    "        for key in ann.keys():\n",
    "            img_dict = ann[key]\n",
    "            img_name = img_dict['name']\n",
    "            cat_list = img_dict['category']\n",
    "            maxl = max(maxl, len(cat_list))\n",
    "            category = \" \".join(cat_list)\n",
    "            names.append(img_name)\n",
    "            labels.append(category)\n",
    "        \n",
    "        data = pd.DataFrame(list(zip(names, labels)), columns=columns)\n",
    "        data.to_csv('../Data/train_ml_ann.csv', index = False)                   "
   ]
  },
  {
   "cell_type": "code",
   "execution_count": 18,
   "metadata": {},
   "outputs": [
    {
     "name": "stdout",
     "output_type": "stream",
     "text": [
      "                    name                   label\n",
      "0  000000016164_left.png                     dog\n",
      "1  000000471175_left.png                     dog\n",
      "2  000000026654_left.png                     dog\n",
      "3  000000158497_left.png  spoon refrigerator dog\n",
      "4  000000390348_left.png                     dog\n",
      "5  000000369190_left.png                     dog\n",
      "6  000000151988_left.png              bottle dog\n",
      "7  000000307993_left.png                book dog\n",
      "8  000000007125_left.png                     dog\n",
      "9  000000346965_left.png                     dog\n"
     ]
    }
   ],
   "source": [
    "ann_dir = \"../../../Data/annotation\"\n",
    "train_fname = 'i2l_trainset_annotation.json'\n",
    "train_fname = os.path.join(ann_dir, train_fname)\n",
    "writeann_multilabel(train_fname)"
   ]
  },
  {
   "cell_type": "code",
   "execution_count": 23,
   "metadata": {},
   "outputs": [],
   "source": [
    "def writeann_multilabel_enc(file):\n",
    "    \n",
    "    with open(\"../Data/labels.json\",\"r\") as f:\n",
    "        encodings = json.loads(f.read())\n",
    "    \n",
    "    maxl = 0\n",
    "    columns = ['name', 'label']\n",
    "    names = []\n",
    "    labels = []\n",
    "    with open(file, 'r') as f:\n",
    "        ann = json.loads(f.read())\n",
    "        for key in ann.keys():\n",
    "            img_dict = ann[key]\n",
    "            img_name = img_dict['name']\n",
    "            cat_list = img_dict['category']\n",
    "            maxl = max(maxl, len(cat_list))\n",
    "            cat_labels = []\n",
    "            for cat in cat_list:\n",
    "                cat_labels.append(encodings[cat])\n",
    "            \n",
    "            category = cat_labels\n",
    "            names.append(img_name)\n",
    "            labels.append(category)\n",
    "        \n",
    "        data = pd.DataFrame(list(zip(names, labels)), columns=columns)\n",
    "        print(data.head(5))\n",
    "        data.to_csv('../Data/train_ml_ann_encoded.csv', index = False) "
   ]
  },
  {
   "cell_type": "code",
   "execution_count": 24,
   "metadata": {},
   "outputs": [
    {
     "name": "stdout",
     "output_type": "stream",
     "text": [
      "                    name         label\n",
      "0  000000016164_left.png          [28]\n",
      "1  000000471175_left.png          [28]\n",
      "2  000000026654_left.png          [28]\n",
      "3  000000158497_left.png  [60, 51, 28]\n",
      "4  000000390348_left.png          [28]\n"
     ]
    }
   ],
   "source": [
    "# Applying label encoding on trainig_multilabel data\n",
    "\n",
    "ann_dir = \"../../../Data/annotation\"\n",
    "train_fname = 'i2l_trainset_annotation.json'\n",
    "train_fname = os.path.join(ann_dir, train_fname)\n",
    "writeann_multilabel_enc(train_fname)"
   ]
  },
  {
   "cell_type": "code",
   "execution_count": 54,
   "metadata": {},
   "outputs": [],
   "source": [
    "def writevalann(file):\n",
    "    maxl = 0\n",
    "    columns = ['name', 'label', 'WC1', 'WC2', 'WC3', 'WC4']\n",
    "    names = []\n",
    "    labels = []\n",
    "    WC1 = []\n",
    "    WC2 = []\n",
    "    WC3 = []\n",
    "    WC4 = []\n",
    "    with open(file, 'r') as f:\n",
    "        ann = json.loads(f.read())\n",
    "        for key in ann.keys():\n",
    "            img_dict = ann[key]\n",
    "            img_name = img_dict['name']\n",
    "            correct_cand = img_dict['correct_candidate']\n",
    "            wrong_cands = img_dict['wrong_candidate'] # four element always\n",
    "            names.append(img_name)\n",
    "            labels.append(correct_cand[0]) # only one element always\n",
    "            WC1.append(wrong_cands[0])\n",
    "            WC2.append(wrong_cands[1])\n",
    "            WC3.append(wrong_cands[2])\n",
    "            WC4.append(wrong_cands[3])\n",
    "    \n",
    "        data = pd.DataFrame(list(zip(names, labels, WC1, WC2, WC3, WC4)), columns=columns)\n",
    "        data.to_csv('../Data/val_ann.csv', index = False)"
   ]
  },
  {
   "cell_type": "code",
   "execution_count": 55,
   "metadata": {},
   "outputs": [
    {
     "name": "stdout",
     "output_type": "stream",
     "text": [
      "                    name          label       WC1         WC2            WC3  \\\n",
      "0  000000116358_left.png    sports ball     sheep       apple       backpack   \n",
      "1  000000050179_left.png  tennis racket  airplane    elephant            tie   \n",
      "2  000000523571_left.png   dining table       car     frisbee     cell phone   \n",
      "3  000000531798_left.png           bowl      cake  wine glass     teddy bear   \n",
      "4  000000531798_left.png         banana    toilet         cup  parking meter   \n",
      "\n",
      "     WC4  \n",
      "0  mouse  \n",
      "1   kite  \n",
      "2  pizza  \n",
      "3  clock  \n",
      "4   vase  \n"
     ]
    }
   ],
   "source": [
    "ann_dir = \"../../../Data/annotation\"\n",
    "val_fname = 'i2l_valset_annotation.json'\n",
    "val_fname = os.path.join(ann_dir, val_fname)\n",
    "writevalann(val_fname)"
   ]
  },
  {
   "cell_type": "code",
   "execution_count": 56,
   "metadata": {},
   "outputs": [],
   "source": [
    "def writetestann(file):\n",
    "    maxl = 0\n",
    "    columns = ['name', 'label', 'WC1', 'WC2', 'WC3', 'WC4']\n",
    "    names = []\n",
    "    labels = []\n",
    "    WC1 = []\n",
    "    WC2 = []\n",
    "    WC3 = []\n",
    "    WC4 = []\n",
    "    with open(file, 'r') as f:\n",
    "        ann = json.loads(f.read())\n",
    "        for key in ann.keys():\n",
    "            img_dict = ann[key]\n",
    "            img_name = img_dict['name']\n",
    "            correct_cand = img_dict['correct_candidate']\n",
    "            wrong_cands = img_dict['wrong_candidate'] # four element always\n",
    "            names.append(img_name)\n",
    "            labels.append(correct_cand[0]) # only one element always\n",
    "            WC1.append(wrong_cands[0])\n",
    "            WC2.append(wrong_cands[1])\n",
    "            WC3.append(wrong_cands[2])\n",
    "            WC4.append(wrong_cands[3])\n",
    "    \n",
    "        data = pd.DataFrame(list(zip(names, labels, WC1, WC2, WC3, WC4)), columns=columns)\n",
    "        data.to_csv('../Data/test_ann.csv', index = False)"
   ]
  },
  {
   "cell_type": "code",
   "execution_count": 57,
   "metadata": {},
   "outputs": [],
   "source": [
    "ann_dir = \"../../../Data/annotation\"\n",
    "test_fname = 'i2l_testset_annotation.json'\n",
    "test_fname = os.path.join(ann_dir, test_fname)\n",
    "writetestann(test_fname)"
   ]
  },
  {
   "cell_type": "code",
   "execution_count": 16,
   "metadata": {},
   "outputs": [],
   "source": [
    "# Applying label encoding on test and validation data (using labels applied for training)\n",
    "val_data = pd.read_csv('../Data/val_ann.csv')\n",
    "test_data = pd.read_csv('../Data/test_ann.csv')\n",
    "\n",
    "with open(\"../Data/labels.json\",\"r\") as f:\n",
    "    encodings = json.loads(f.read())\n",
    "    for col in val_data.columns[1:]:\n",
    "        val_data[col].replace(encodings, inplace=True)\n",
    "        \n",
    "    for col in test_data.columns[1:]:\n",
    "        test_data[col].replace(encodings, inplace=True)\n",
    "\n",
    "val_data.to_csv('../Data/val_ann_encoded.csv', index = False)  \n",
    "test_data.to_csv('../Data/test_ann_encoded.csv', index = False)  "
   ]
  },
  {
   "cell_type": "code",
   "execution_count": 47,
   "metadata": {},
   "outputs": [
    {
     "name": "stdout",
     "output_type": "stream",
     "text": [
      "    Loading Data in training mode\n",
      "0                      Epoch 1/99\n",
      "1                      ----------\n",
      "2  train Loss: 0.0518 Acc: 0.1600\n",
      "3  val Loss: 223.5253 Acc: 0.7188\n",
      "4                      Epoch 2/99\n"
     ]
    }
   ],
   "source": []
  },
  {
   "cell_type": "code",
   "execution_count": 120,
   "metadata": {},
   "outputs": [
    {
     "name": "stdout",
     "output_type": "stream",
     "text": [
      "    Loading Data in training mode\n",
      "0                      Epoch 0/99\n",
      "1                      ----------\n",
      "2  train Loss: 0.0744 Acc: 0.0921\n",
      "3    val Loss: 0.0617 Acc: 0.6310\n",
      "4                      Epoch 1/99\n",
      "     Loading Data in training mode\n",
      "2   train Loss: 0.0744 Acc: 0.0921\n",
      "6   train Loss: 0.0586 Acc: 0.1246\n",
      "10  train Loss: 0.0569 Acc: 0.1364\n",
      "14  train Loss: 0.0560 Acc: 0.1442\n",
      "18  train Loss: 0.0554 Acc: 0.1517\n",
      "   Loading Data in training mode\n",
      "3   val Loss: 0.0617 Acc: 0.6310\n",
      "7   val Loss: 0.0586 Acc: 0.6522\n",
      "11  val Loss: 0.0569 Acc: 0.6803\n",
      "15  val Loss: 0.0565 Acc: 0.6930\n",
      "19  val Loss: 0.0558 Acc: 0.7026\n"
     ]
    },
    {
     "data": {
      "image/png": "[encoded data removed]",
      "text/plain": [
       "<Figure size 432x288 with 1 Axes>"
      ]
     },
     "metadata": {},
     "output_type": "display_data"
    }
   ],
   "source": [
    "data = pd.read_csv('model_gcn_baseline_tuned_False.txt', sep = \"\\n\")\n",
    "print(data.head(5))\n",
    "# r - 1 factor of 4\n",
    "rows = data.shape[0]\n",
    "train_r = []\n",
    "val_r = []\n",
    "for r in range(1, rows):\n",
    "    if (r - 2) % 4 == 0:\n",
    "        train_r.append(r)\n",
    "    elif (r - 3) % 4 == 0:\n",
    "        val_r.append(r)\n",
    "\n",
    "train_df = data.loc[train_r]\n",
    "val_df = data.loc[val_r]\n",
    "\n",
    "\n",
    "train_loss = []\n",
    "val_loss = []\n",
    "\n",
    "print(train_df.head(5))\n",
    "print(val_df.head(5))\n",
    "for r in range(train_df.shape[0]):\n",
    "    s = str(train_df.iloc[r])\n",
    "#     print(s.split(\" \"))\n",
    "    train_loss.append(float(s.split(\" \")[10]))\n",
    "\n",
    "ignore = []\n",
    "for r in range(val_df.shape[0]):\n",
    "    s = str(val_df.iloc[r])\n",
    "    val_loss.append(float(s.split(\" \")[10]))\n",
    "    if float(s.split(\" \")[10]) > 1.00:\n",
    "        ignore.append(r)\n",
    "    \n",
    "train_loss_f = []\n",
    "val_loss_f = []\n",
    "for r in range(train_df.shape[0]):\n",
    "    if r in ignore:\n",
    "        continue\n",
    "    train_loss_f.append(train_loss[r])\n",
    "    val_loss_f.append(val_loss[r])\n",
    "    \n",
    "import matplotlib.pyplot as plt\n",
    "plt.plot(train_loss_f, 'b', label='Training Loss')\n",
    "plt.plot(val_loss_f, 'r', label='Validation Loss')\n",
    "plt.legend()\n",
    "plt.xlabel('Epochs')\n",
    "plt.ylabel('Loss')\n",
    "plt.savefig('model_gcn_baseline_tuned_False.png', dpi=300)"
   ]
  },
  {
   "cell_type": "code",
   "execution_count": 116,
   "metadata": {},
   "outputs": [
    {
     "name": "stdout",
     "output_type": "stream",
     "text": [
      "                                      Epoch 0/99\n",
      "0                                     ----------\n",
      "1  train Loss: 0.0652 Acc: 0.1448 Recall: 0.0003\n",
      "2    val Loss: 0.0644 Acc: 0.1685 Recall: 0.0002\n",
      "3                                     Epoch 1/99\n",
      "4                                     ----------\n",
      "                                       Epoch 0/99\n",
      "1   train Loss: 0.0652 Acc: 0.1448 Recall: 0.0003\n",
      "5   train Loss: 0.0641 Acc: 0.1455 Recall: 0.0002\n",
      "9   train Loss: 0.0642 Acc: 0.1445 Recall: 0.0003\n",
      "13  train Loss: 0.0641 Acc: 0.1446 Recall: 0.0003\n",
      "17  train Loss: 0.0640 Acc: 0.1453 Recall: 0.0002\n",
      "                                     Epoch 0/99\n",
      "2   val Loss: 0.0644 Acc: 0.1685 Recall: 0.0002\n",
      "6   val Loss: 0.0637 Acc: 0.1273 Recall: 0.0000\n",
      "10  val Loss: 0.0631 Acc: 0.1552 Recall: 0.0000\n",
      "14  val Loss: 0.0655 Acc: 0.1523 Recall: 0.0004\n",
      "18  val Loss: 0.0678 Acc: 0.1089 Recall: 0.0001\n",
      "['Epoch', '0/99', '', '', '', 'train', 'Loss:', '0.0652', 'Acc:', '0.1448', 'Recall:', '0.0003\\nName:', '1,', 'dtype:', 'object']\n",
      "['Epoch', '0/99', '', '', '', 'train', 'Loss:', '0.0641', 'Acc:', '0.1455', 'Recall:', '0.0002\\nName:', '5,', 'dtype:', 'object']\n",
      "['Epoch', '0/99', '', '', '', 'train', 'Loss:', '0.0642', 'Acc:', '0.1445', 'Recall:', '0.0003\\nName:', '9,', 'dtype:', 'object']\n",
      "['Epoch', '0/99', '', '', '', 'train', 'Loss:', '0.0641', 'Acc:', '0.1446', 'Recall:', '0.0003\\nName:', '13,', 'dtype:', 'object']\n",
      "['Epoch', '0/99', '', '', '', 'train', 'Loss:', '0.0640', 'Acc:', '0.1453', 'Recall:', '0.0002\\nName:', '17,', 'dtype:', 'object']\n",
      "['Epoch', '0/99', '', '', '', 'train', 'Loss:', '0.0642', 'Acc:', '0.1435', 'Recall:', '0.0003\\nName:', '21,', 'dtype:', 'object']\n",
      "['Epoch', '0/99', '', '', '', 'train', 'Loss:', '0.0641', 'Acc:', '0.1452', 'Recall:', '0.0002\\nName:', '25,', 'dtype:', 'object']\n",
      "['Epoch', '0/99', '', '', '', 'train', 'Loss:', '0.0640', 'Acc:', '0.1465', 'Recall:', '0.0002\\nName:', '29,', 'dtype:', 'object']\n",
      "['Epoch', '0/99', '', '', '', 'train', 'Loss:', '0.0640', 'Acc:', '0.1472', 'Recall:', '0.0002\\nName:', '33,', 'dtype:', 'object']\n",
      "['Epoch', '0/99', '', '', '', 'train', 'Loss:', '0.0642', 'Acc:', '0.1446', 'Recall:', '0.0003\\nName:', '37,', 'dtype:', 'object']\n",
      "['Epoch', '0/99', '', '', '', 'train', 'Loss:', '0.0641', 'Acc:', '0.1447', 'Recall:', '0.0003\\nName:', '41,', 'dtype:', 'object']\n",
      "['Epoch', '0/99', '', '', '', 'train', 'Loss:', '0.0641', 'Acc:', '0.1462', 'Recall:', '0.0003\\nName:', '45,', 'dtype:', 'object']\n",
      "['Epoch', '0/99', '', '', '', 'train', 'Loss:', '0.0641', 'Acc:', '0.1463', 'Recall:', '0.0003\\nName:', '49,', 'dtype:', 'object']\n",
      "['Epoch', '0/99', '', '', '', 'train', 'Loss:', '0.0642', 'Acc:', '0.1445', 'Recall:', '0.0003\\nName:', '53,', 'dtype:', 'object']\n",
      "['Epoch', '0/99', '', '', '', 'train', 'Loss:', '0.0642', 'Acc:', '0.1461', 'Recall:', '0.0003\\nName:', '57,', 'dtype:', 'object']\n",
      "['Epoch', '0/99', '', '', '', 'train', 'Loss:', '0.0641', 'Acc:', '0.1460', 'Recall:', '0.0003\\nName:', '61,', 'dtype:', 'object']\n",
      "['Epoch', '0/99', '', '', '', 'train', 'Loss:', '0.0641', 'Acc:', '0.1452', 'Recall:', '0.0003\\nName:', '65,', 'dtype:', 'object']\n",
      "['Epoch', '0/99', '', '', '', 'train', 'Loss:', '0.0641', 'Acc:', '0.1462', 'Recall:', '0.0003\\nName:', '69,', 'dtype:', 'object']\n",
      "['Epoch', '0/99', '', '', '', 'train', 'Loss:', '0.0641', 'Acc:', '0.1460', 'Recall:', '0.0002\\nName:', '73,', 'dtype:', 'object']\n",
      "['Epoch', '0/99', '', '', '', 'train', 'Loss:', '0.0641', 'Acc:', '0.1441', 'Recall:', '0.0003\\nName:', '77,', 'dtype:', 'object']\n"
     ]
    },
    {
     "data": {
      "image/png": "[encoded data removed]",
      "text/plain": [
       "<Figure size 432x288 with 1 Axes>"
      ]
     },
     "metadata": {},
     "output_type": "display_data"
    }
   ],
   "source": [
    "# VG Data\n",
    "data = pd.read_csv('model_glore_vg_False.txt', sep = \"\\n\")\n",
    "print(data.head(5))\n",
    "\n",
    "# r - 1 factor of 4\n",
    "rows = data.shape[0]\n",
    "train_r = []\n",
    "val_r = []\n",
    "for r in range(1, rows):\n",
    "    if (r - 1) % 4 == 0:\n",
    "        train_r.append(r)\n",
    "    elif (r - 2) % 4 == 0:\n",
    "        val_r.append(r)\n",
    "\n",
    "train_df = data.loc[train_r]\n",
    "val_df = data.loc[val_r]\n",
    "\n",
    "\n",
    "train_loss = []\n",
    "val_loss = []\n",
    "\n",
    "print(train_df.head(5))\n",
    "print(val_df.head(5))\n",
    "for r in range(train_df.shape[0]):\n",
    "    s = str(train_df.iloc[r])\n",
    "    print(s.split(\" \"))\n",
    "    train_loss.append(float(s.split(\" \")[7]))\n",
    "\n",
    "ignore = []\n",
    "for r in range(val_df.shape[0]):\n",
    "    s = str(val_df.iloc[r])\n",
    "    val_loss.append(float(s.split(\" \")[7]))\n",
    "    \n",
    "    \n",
    "    \n",
    "import matplotlib.pyplot as plt\n",
    "plt.plot(train_loss, 'b', label='Training Loss')\n",
    "plt.plot(val_loss, 'r', label='Validation Loss')\n",
    "plt.legend()\n",
    "plt.xlabel('Epochs')\n",
    "plt.ylabel('Loss')\n",
    "plt.savefig('model_glore_vg_False.png', dpi=300)"
   ]
  },
  {
   "cell_type": "code",
   "execution_count": null,
   "metadata": {},
   "outputs": [],
   "source": []
  }
 ],
 "metadata": {
  "kernelspec": {
   "display_name": "Python 3",
   "language": "python",
   "name": "python3"
  },
  "language_info": {
   "codemirror_mode": {
    "name": "ipython",
    "version": 3
   },
   "file_extension": ".py",
   "mimetype": "text/x-python",
   "name": "python",
   "nbconvert_exporter": "python",
   "pygments_lexer": "ipython3",
   "version": "3.6.8"
  }
 },
 "nbformat": 4,
 "nbformat_minor": 2
}
