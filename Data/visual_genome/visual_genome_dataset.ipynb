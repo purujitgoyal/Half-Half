{
 "cells": [
  {
   "cell_type": "code",
   "execution_count": 8,
   "metadata": {},
   "outputs": [],
   "source": [
    "import pandas as pd\n",
    "import json\n",
    "import torch\n",
    "import numpy as np"
   ]
  },
  {
   "cell_type": "code",
   "execution_count": 2,
   "metadata": {},
   "outputs": [],
   "source": [
    "objects = pd.read_json('./objects.json')"
   ]
  },
  {
   "cell_type": "code",
   "execution_count": 3,
   "metadata": {
    "scrolled": true
   },
   "outputs": [],
   "source": [
    "with open(\"../labels.json\",\"r\") as f:\n",
    "    encodings = json.loads(f.read())"
   ]
  },
  {
   "cell_type": "code",
   "execution_count": 4,
   "metadata": {},
   "outputs": [
    {
     "data": {
      "text/plain": [
       "(108077, 2)"
      ]
     },
     "execution_count": 4,
     "metadata": {},
     "output_type": "execute_result"
    }
   ],
   "source": [
    "objects.shape"
   ]
  },
  {
   "cell_type": "code",
   "execution_count": 6,
   "metadata": {},
   "outputs": [],
   "source": [
    "ms_coco_labels = ['person',\n",
    "'bicycle',\n",
    "'car',\n",
    "'motorcycle',\n",
    "'airplane',\n",
    "'bus',\n",
    "'train',\n",
    "'truck',\n",
    "'boat',\n",
    "'traffic light',\n",
    "'fire hydrant',\n",
    "'stop sign',\n",
    "'parking meter',\n",
    "'bench',\n",
    "'bird',\n",
    "'cat',\n",
    "'dog',\n",
    "'horse',\n",
    "'sheep',\n",
    "'cow',\n",
    "'elephant',\n",
    "'bear',\n",
    "'zebra',\n",
    "'giraffe',\n",
    "'backpack',\n",
    "'umbrella',\n",
    "'handbag',\n",
    "'tie',\n",
    "'suitcase',\n",
    "'frisbee',\n",
    "'skis',\n",
    "'snowboard',\n",
    "'sports ball',\n",
    "'kite',\n",
    "'baseball bat',\n",
    "'baseball glove',\n",
    "'skateboard',\n",
    "'surfboard',\n",
    "'tennis racket',\n",
    "'bottle',\n",
    "'wine glass',\n",
    "'cup',\n",
    "'fork',\n",
    "'knife',\n",
    "'spoon',\n",
    "'bowl',\n",
    "'banana',\n",
    "'apple',\n",
    "'sandwich',\n",
    "'orange',\n",
    "'broccoli',\n",
    "'carrot',\n",
    "'hot dog',\n",
    "'pizza',\n",
    "'donut',\n",
    "'cake',\n",
    "'chair',\n",
    "'couch',\n",
    "'potted plant',\n",
    "'bed',\n",
    "'dining table',\n",
    "'toilet',\n",
    "'tv',\n",
    "'laptop',\n",
    "'mouse',\n",
    "'remote',\n",
    "'keyboard',\n",
    "'cell phone',\n",
    "'microwave',\n",
    "'oven',\n",
    "'toaster',\n",
    "'sink',\n",
    "'refrigerator',\n",
    "'book',\n",
    "'clock',\n",
    "'vase',\n",
    "'scissors',\n",
    "'teddy bear',\n",
    "'hair drier',\n",
    "'toothbrush']"
   ]
  },
  {
   "cell_type": "code",
   "execution_count": 7,
   "metadata": {},
   "outputs": [],
   "source": [
    "df_final = pd.DataFrame(columns=['image_id', 'object_names', 'object_ids'])\n",
    "object_set = set({})\n",
    "hh_object_set = set(encodings)\n",
    "ms_coco_set = set(ms_coco_labels)"
   ]
  },
  {
   "cell_type": "code",
   "execution_count": 9,
   "metadata": {
    "scrolled": true
   },
   "outputs": [
    {
     "name": "stdout",
     "output_type": "stream",
     "text": [
      "0\n",
      "1000\n",
      "2000\n",
      "3000\n",
      "4000\n",
      "5000\n",
      "6000\n",
      "7000\n",
      "8000\n",
      "9000\n",
      "10000\n",
      "11000\n",
      "12000\n",
      "13000\n",
      "14000\n",
      "15000\n",
      "16000\n",
      "17000\n",
      "18000\n",
      "19000\n",
      "20000\n",
      "21000\n",
      "22000\n",
      "23000\n",
      "24000\n",
      "25000\n",
      "26000\n",
      "27000\n",
      "28000\n",
      "29000\n",
      "30000\n",
      "31000\n",
      "32000\n",
      "33000\n",
      "34000\n",
      "35000\n",
      "36000\n",
      "37000\n",
      "38000\n",
      "39000\n",
      "40000\n",
      "41000\n",
      "42000\n",
      "43000\n",
      "44000\n",
      "45000\n",
      "46000\n",
      "47000\n",
      "48000\n",
      "49000\n",
      "50000\n",
      "51000\n",
      "52000\n",
      "53000\n",
      "54000\n",
      "55000\n",
      "56000\n",
      "57000\n",
      "58000\n",
      "59000\n",
      "60000\n",
      "61000\n",
      "62000\n",
      "63000\n",
      "64000\n",
      "65000\n",
      "66000\n",
      "67000\n",
      "68000\n",
      "69000\n",
      "70000\n",
      "71000\n",
      "72000\n",
      "73000\n",
      "74000\n",
      "75000\n",
      "76000\n",
      "77000\n",
      "78000\n",
      "79000\n",
      "80000\n",
      "81000\n",
      "82000\n",
      "83000\n",
      "84000\n",
      "85000\n",
      "86000\n",
      "87000\n",
      "88000\n",
      "89000\n",
      "90000\n",
      "91000\n",
      "92000\n",
      "93000\n",
      "94000\n",
      "95000\n",
      "96000\n",
      "97000\n",
      "98000\n",
      "99000\n",
      "100000\n",
      "101000\n",
      "102000\n",
      "103000\n",
      "104000\n",
      "105000\n",
      "106000\n",
      "107000\n",
      "108000\n"
     ]
    }
   ],
   "source": [
    "for index, row in objects.iterrows():\n",
    "    if index % 1000 == 0:\n",
    "        print(index)\n",
    "    row_df = pd.DataFrame(row['objects'])\n",
    "# #     row_df.drop(['h', 'synsets', 'w', 'x', 'y'], inplace=True, axis=1)\n",
    "# #     print(row_df.columns)\n",
    "    if 'names' in row_df.columns:\n",
    "        row_set = set([])\n",
    "        for _, item in row_df['names'].iteritems():\n",
    "            row_set.add(item[0])\n",
    "        \n",
    "        ms_coco_obj = row_set.intersection(ms_coco_set)\n",
    "        if len(ms_coco_obj) > 0:\n",
    "            object_ids = []\n",
    "            for obj in ms_coco_obj:\n",
    "                object_ids.append(ms_coco_labels.index(obj))\n",
    "            df_final = df_final.append([{'image_id': row['image_id'], 'object_names': list(ms_coco_obj), 'object_ids': object_ids}])\n",
    "\n",
    "df_final.reset_index(inplace=True, drop=True)"
   ]
  },
  {
   "cell_type": "code",
   "execution_count": 12,
   "metadata": {},
   "outputs": [
    {
     "name": "stdout",
     "output_type": "stream",
     "text": [
      "  image_id                 object_names    object_ids\n",
      "0        1  [parking meter, clock, car]   [12, 74, 2]\n",
      "1        2              [backpack, car]       [24, 2]\n",
      "2        3            [keyboard, mouse]      [66, 64]\n",
      "3        4   [chair, couch, teddy bear]  [56, 57, 77]\n",
      "4        5            [chair, keyboard]      [56, 66]\n"
     ]
    }
   ],
   "source": [
    "print(df_final.head())"
   ]
  },
  {
   "cell_type": "code",
   "execution_count": 13,
   "metadata": {},
   "outputs": [],
   "source": [
    "df_final.to_csv('./visual_genome_ann.csv', index=False)"
   ]
  },
  {
   "cell_type": "code",
   "execution_count": 16,
   "metadata": {},
   "outputs": [
    {
     "name": "stdout",
     "output_type": "stream",
     "text": [
      "{'person': 0, 'bicycle': 1, 'car': 2, 'motorcycle': 3, 'airplane': 4, 'bus': 5, 'train': 6, 'truck': 7, 'boat': 8, 'traffic light': 9, 'fire hydrant': 10, 'stop sign': 11, 'parking meter': 12, 'bench': 13, 'bird': 14, 'cat': 15, 'dog': 16, 'horse': 17, 'sheep': 18, 'cow': 19, 'elephant': 20, 'bear': 21, 'zebra': 22, 'giraffe': 23, 'backpack': 24, 'umbrella': 25, 'handbag': 26, 'tie': 27, 'suitcase': 28, 'frisbee': 29, 'skis': 30, 'snowboard': 31, 'sports ball': 32, 'kite': 33, 'baseball bat': 34, 'baseball glove': 35, 'skateboard': 36, 'surfboard': 37, 'tennis racket': 38, 'bottle': 39, 'wine glass': 40, 'cup': 41, 'fork': 42, 'knife': 43, 'spoon': 44, 'bowl': 45, 'banana': 46, 'apple': 47, 'sandwich': 48, 'orange': 49, 'broccoli': 50, 'carrot': 51, 'hot dog': 52, 'pizza': 53, 'donut': 54, 'cake': 55, 'chair': 56, 'couch': 57, 'potted plant': 58, 'bed': 59, 'dining table': 60, 'toilet': 61, 'tv': 62, 'laptop': 63, 'mouse': 64, 'remote': 65, 'keyboard': 66, 'cell phone': 67, 'microwave': 68, 'oven': 69, 'toaster': 70, 'sink': 71, 'refrigerator': 72, 'book': 73, 'clock': 74, 'vase': 75, 'scissors': 76, 'teddy bear': 77, 'hair drier': 78, 'toothbrush': 79}\n"
     ]
    }
   ],
   "source": [
    "label_enc_dict = {label: index for index, label in enumerate(ms_coco_labels)}\n",
    "print(label_enc_dict)"
   ]
  },
  {
   "cell_type": "code",
   "execution_count": 17,
   "metadata": {},
   "outputs": [],
   "source": [
    "label_enc_json = json.dumps(label_enc_dict)\n",
    "f = open(\"./ms_coco_labels.json\",\"w\")\n",
    "f.write(label_enc_json)\n",
    "f.close()"
   ]
  },
  {
   "cell_type": "code",
   "execution_count": 2,
   "metadata": {},
   "outputs": [],
   "source": [
    "visual_genome_csv = pd.read_csv('./visual_genome_ann.csv')"
   ]
  },
  {
   "cell_type": "code",
   "execution_count": 3,
   "metadata": {},
   "outputs": [
    {
     "data": {
      "text/html": [
       "<div>\n",
       "<style scoped>\n",
       "    .dataframe tbody tr th:only-of-type {\n",
       "        vertical-align: middle;\n",
       "    }\n",
       "\n",
       "    .dataframe tbody tr th {\n",
       "        vertical-align: top;\n",
       "    }\n",
       "\n",
       "    .dataframe thead th {\n",
       "        text-align: right;\n",
       "    }\n",
       "</style>\n",
       "<table border=\"1\" class=\"dataframe\">\n",
       "  <thead>\n",
       "    <tr style=\"text-align: right;\">\n",
       "      <th></th>\n",
       "      <th>image_id</th>\n",
       "      <th>object_names</th>\n",
       "      <th>object_ids</th>\n",
       "    </tr>\n",
       "  </thead>\n",
       "  <tbody>\n",
       "    <tr>\n",
       "      <th>0</th>\n",
       "      <td>1</td>\n",
       "      <td>['parking meter', 'clock', 'car']</td>\n",
       "      <td>[12, 74, 2]</td>\n",
       "    </tr>\n",
       "    <tr>\n",
       "      <th>1</th>\n",
       "      <td>2</td>\n",
       "      <td>['backpack', 'car']</td>\n",
       "      <td>[24, 2]</td>\n",
       "    </tr>\n",
       "    <tr>\n",
       "      <th>2</th>\n",
       "      <td>3</td>\n",
       "      <td>['keyboard', 'mouse']</td>\n",
       "      <td>[66, 64]</td>\n",
       "    </tr>\n",
       "    <tr>\n",
       "      <th>3</th>\n",
       "      <td>4</td>\n",
       "      <td>['chair', 'couch', 'teddy bear']</td>\n",
       "      <td>[56, 57, 77]</td>\n",
       "    </tr>\n",
       "    <tr>\n",
       "      <th>4</th>\n",
       "      <td>5</td>\n",
       "      <td>['chair', 'keyboard']</td>\n",
       "      <td>[56, 66]</td>\n",
       "    </tr>\n",
       "  </tbody>\n",
       "</table>\n",
       "</div>"
      ],
      "text/plain": [
       "   image_id                       object_names    object_ids\n",
       "0         1  ['parking meter', 'clock', 'car']   [12, 74, 2]\n",
       "1         2                ['backpack', 'car']       [24, 2]\n",
       "2         3              ['keyboard', 'mouse']      [66, 64]\n",
       "3         4   ['chair', 'couch', 'teddy bear']  [56, 57, 77]\n",
       "4         5              ['chair', 'keyboard']      [56, 66]"
      ]
     },
     "execution_count": 3,
     "metadata": {},
     "output_type": "execute_result"
    }
   ],
   "source": [
    "visual_genome_csv.head()"
   ]
  },
  {
   "cell_type": "code",
   "execution_count": 6,
   "metadata": {},
   "outputs": [
    {
     "data": {
      "text/plain": [
       "image_id                                        1\n",
       "object_names    ['parking meter', 'clock', 'car']\n",
       "object_ids                            [12, 74, 2]\n",
       "Name: 0, dtype: object"
      ]
     },
     "execution_count": 6,
     "metadata": {},
     "output_type": "execute_result"
    }
   ],
   "source": [
    "visual_genome_csv.iloc[0]"
   ]
  },
  {
   "cell_type": "code",
   "execution_count": 9,
   "metadata": {},
   "outputs": [],
   "source": [
    "msk = np.random.rand(len(visual_genome_csv)) < 0.8"
   ]
  },
  {
   "cell_type": "code",
   "execution_count": 13,
   "metadata": {},
   "outputs": [],
   "source": [
    "train_vg = visual_genome_csv.iloc[msk]"
   ]
  },
  {
   "cell_type": "code",
   "execution_count": 15,
   "metadata": {},
   "outputs": [
    {
     "data": {
      "text/plain": [
       "74416"
      ]
     },
     "execution_count": 15,
     "metadata": {},
     "output_type": "execute_result"
    }
   ],
   "source": [
    "len(train_vg)"
   ]
  },
  {
   "cell_type": "code",
   "execution_count": 16,
   "metadata": {},
   "outputs": [],
   "source": [
    "test_vg = visual_genome_csv[~msk]"
   ]
  },
  {
   "cell_type": "code",
   "execution_count": 17,
   "metadata": {},
   "outputs": [],
   "source": [
    "msk = np.random.rand(len(train_vg)) < 0.8"
   ]
  },
  {
   "cell_type": "code",
   "execution_count": 18,
   "metadata": {},
   "outputs": [],
   "source": [
    "val_vg = train_vg.iloc[~msk]"
   ]
  },
  {
   "cell_type": "code",
   "execution_count": 20,
   "metadata": {},
   "outputs": [
    {
     "data": {
      "text/plain": [
       "18600"
      ]
     },
     "execution_count": 20,
     "metadata": {},
     "output_type": "execute_result"
    }
   ],
   "source": [
    "len(test_vg)"
   ]
  },
  {
   "cell_type": "code",
   "execution_count": 21,
   "metadata": {},
   "outputs": [],
   "source": [
    "train_vg = train_vg.iloc[msk]"
   ]
  },
  {
   "cell_type": "code",
   "execution_count": 22,
   "metadata": {},
   "outputs": [
    {
     "data": {
      "text/plain": [
       "59601"
      ]
     },
     "execution_count": 22,
     "metadata": {},
     "output_type": "execute_result"
    }
   ],
   "source": [
    "len(train_vg)"
   ]
  },
  {
   "cell_type": "code",
   "execution_count": 25,
   "metadata": {},
   "outputs": [
    {
     "data": {
      "text/html": [
       "<div>\n",
       "<style scoped>\n",
       "    .dataframe tbody tr th:only-of-type {\n",
       "        vertical-align: middle;\n",
       "    }\n",
       "\n",
       "    .dataframe tbody tr th {\n",
       "        vertical-align: top;\n",
       "    }\n",
       "\n",
       "    .dataframe thead th {\n",
       "        text-align: right;\n",
       "    }\n",
       "</style>\n",
       "<table border=\"1\" class=\"dataframe\">\n",
       "  <thead>\n",
       "    <tr style=\"text-align: right;\">\n",
       "      <th></th>\n",
       "      <th>image_id</th>\n",
       "      <th>object_names</th>\n",
       "      <th>object_ids</th>\n",
       "    </tr>\n",
       "  </thead>\n",
       "  <tbody>\n",
       "    <tr>\n",
       "      <th>7</th>\n",
       "      <td>8</td>\n",
       "      <td>['keyboard', 'cup', 'mouse', 'chair', 'book']</td>\n",
       "      <td>[66, 41, 64, 56, 73]</td>\n",
       "    </tr>\n",
       "    <tr>\n",
       "      <th>8</th>\n",
       "      <td>9</td>\n",
       "      <td>['chair', 'bottle', 'keyboard', 'book']</td>\n",
       "      <td>[56, 39, 66, 73]</td>\n",
       "    </tr>\n",
       "    <tr>\n",
       "      <th>13</th>\n",
       "      <td>14</td>\n",
       "      <td>['bottle', 'book']</td>\n",
       "      <td>[39, 73]</td>\n",
       "    </tr>\n",
       "    <tr>\n",
       "      <th>17</th>\n",
       "      <td>18</td>\n",
       "      <td>['chair', 'bottle', 'keyboard', 'mouse']</td>\n",
       "      <td>[56, 39, 66, 64]</td>\n",
       "    </tr>\n",
       "    <tr>\n",
       "      <th>27</th>\n",
       "      <td>28</td>\n",
       "      <td>['couch', 'vase', 'bowl', 'book']</td>\n",
       "      <td>[57, 75, 45, 73]</td>\n",
       "    </tr>\n",
       "  </tbody>\n",
       "</table>\n",
       "</div>"
      ],
      "text/plain": [
       "    image_id                                   object_names  \\\n",
       "7          8  ['keyboard', 'cup', 'mouse', 'chair', 'book']   \n",
       "8          9        ['chair', 'bottle', 'keyboard', 'book']   \n",
       "13        14                             ['bottle', 'book']   \n",
       "17        18       ['chair', 'bottle', 'keyboard', 'mouse']   \n",
       "27        28              ['couch', 'vase', 'bowl', 'book']   \n",
       "\n",
       "              object_ids  \n",
       "7   [66, 41, 64, 56, 73]  \n",
       "8       [56, 39, 66, 73]  \n",
       "13              [39, 73]  \n",
       "17      [56, 39, 66, 64]  \n",
       "27      [57, 75, 45, 73]  "
      ]
     },
     "execution_count": 25,
     "metadata": {},
     "output_type": "execute_result"
    }
   ],
   "source": [
    "test_vg.head()"
   ]
  },
  {
   "cell_type": "code",
   "execution_count": 26,
   "metadata": {},
   "outputs": [],
   "source": [
    "train_vg.reset_index(inplace=True, drop=True)\n",
    "val_vg.reset_index(inplace=True, drop=True)\n",
    "test_vg.reset_index(inplace=True, drop=True)"
   ]
  },
  {
   "cell_type": "code",
   "execution_count": 28,
   "metadata": {},
   "outputs": [],
   "source": [
    "train_vg.to_csv('./visual_genome_train_ann.csv', index=False)\n",
    "val_vg.to_csv('./visual_genome_val_ann.csv', index=False)\n",
    "test_vg.to_csv('./visual_genome_test_ann.csv', index=False)"
   ]
  },
  {
   "cell_type": "code",
   "execution_count": null,
   "metadata": {},
   "outputs": [],
   "source": []
  }
 ],
 "metadata": {
  "kernelspec": {
   "display_name": "Python 3",
   "language": "python",
   "name": "python3"
  },
  "language_info": {
   "codemirror_mode": {
    "name": "ipython",
    "version": 3
   },
   "file_extension": ".py",
   "mimetype": "text/x-python",
   "name": "python",
   "nbconvert_exporter": "python",
   "pygments_lexer": "ipython3",
   "version": "3.7.3"
  }
 },
 "nbformat": 4,
 "nbformat_minor": 2
}
