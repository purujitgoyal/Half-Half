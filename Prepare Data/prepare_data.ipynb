{
 "cells": [
  {
   "cell_type": "code",
   "execution_count": 37,
   "metadata": {},
   "outputs": [],
   "source": [
    "import os\n",
    "import pandas as pd\n",
    "import numpy as np\n",
    "import json"
   ]
  },
  {
   "cell_type": "code",
   "execution_count": 32,
   "metadata": {},
   "outputs": [],
   "source": [
    "ann_dir = \"../../../Data/annotation\"\n",
    "train_fname = 'i2l_trainset_annotation.json'\n",
    "val_fname = 'i2l_valset_annotation.json'\n",
    "test_fname = 'i2l_testset_annotation.json'"
   ]
  },
  {
   "cell_type": "code",
   "execution_count": 5,
   "metadata": {},
   "outputs": [],
   "source": [
    "def writeann(file):\n",
    "    maxl = 0\n",
    "    columns = ['name', 'label']\n",
    "    names = []\n",
    "    labels = []\n",
    "    categories = []\n",
    "    with open(file, 'r') as f:\n",
    "        ann = json.loads(f.read())\n",
    "        for key in ann.keys():\n",
    "            img_dict = ann[key]\n",
    "            img_name = img_dict['name']\n",
    "            cat_list = img_dict['category']\n",
    "            maxl = max(maxl, len(cat_list))\n",
    "            categories.extend(cat_list)\n",
    "            \n",
    "            for cat in cat_list:\n",
    "                names.append(img_name)\n",
    "                labels.append(cat)\n",
    "                \n",
    "        data = pd.DataFrame(list(zip(names, labels)), columns=columns)\n",
    "        print('Maximum categories per image', maxl)\n",
    "        print('Total number of categories', len(set(categories)))\n",
    "        print('All categories', set(categories))\n",
    "#         data.to_csv('../Data/train_ann.csv', index = False)                   "
   ]
  },
  {
   "cell_type": "code",
   "execution_count": 9,
   "metadata": {},
   "outputs": [
    {
     "name": "stdout",
     "output_type": "stream",
     "text": [
      "Maximum categories per image 9\n",
      "Total number of categories 79\n",
      "All categories {'frisbee', 'microwave', 'chair', 'orange', 'cup', 'keyboard', 'scissors', 'vase', 'hot dog', 'cell phone', 'stop sign', 'car', 'tv', 'laptop', 'skis', 'bottle', 'sink', 'broccoli', 'fork', 'book', 'horse', 'sports ball', 'tie', 'skateboard', 'truck', 'toothbrush', 'sandwich', 'cake', 'bowl', 'bicycle', 'dog', 'spoon', 'bird', 'apple', 'tennis racket', 'bear', 'suitcase', 'dining table', 'parking meter', 'couch', 'elephant', 'backpack', 'banana', 'remote', 'umbrella', 'sheep', 'clock', 'giraffe', 'wine glass', 'knife', 'bus', 'baseball bat', 'handbag', 'bed', 'cat', 'baseball glove', 'traffic light', 'kite', 'carrot', 'fire hydrant', 'hair drier', 'train', 'potted plant', 'teddy bear', 'donut', 'toaster', 'pizza', 'bench', 'surfboard', 'toilet', 'mouse', 'motorcycle', 'airplane', 'cow', 'zebra', 'refrigerator', 'snowboard', 'boat', 'oven'}\n"
     ]
    }
   ],
   "source": [
    "train_fname = os.path.join(ann_dir, train_fname)\n",
    "train_data = writeann(train_fname)"
   ]
  },
  {
   "cell_type": "code",
   "execution_count": 11,
   "metadata": {
    "scrolled": true
   },
   "outputs": [
    {
     "name": "stdout",
     "output_type": "stream",
     "text": [
      "Max Freq category: chair\n",
      "Min Freq category: bear\n",
      "Mean Freq: 599.620253164557\n",
      "                name\n",
      "label               \n",
      "airplane         141\n",
      "apple            290\n",
      "backpack        1394\n",
      "banana           293\n",
      "baseball bat     590\n",
      "baseball glove   710\n",
      "bear              44\n",
      "bed              197\n",
      "bench            925\n",
      "bicycle          615\n",
      "bird             397\n",
      "boat             275\n",
      "book            1164\n",
      "bottle          2190\n",
      "bowl            1220\n",
      "broccoli         207\n",
      "bus              400\n",
      "cake             263\n",
      "car             2139\n",
      "carrot           247\n",
      "cat              277\n",
      "cell phone      1277\n",
      "chair           2243\n",
      "clock           1145\n",
      "couch            568\n",
      "cow               99\n",
      "cup             2241\n",
      "dining table     762\n",
      "dog              583\n",
      "donut            135\n",
      "...              ...\n",
      "pizza            127\n",
      "potted plant     957\n",
      "refrigerator     570\n",
      "remote           646\n",
      "sandwich         200\n",
      "scissors         191\n",
      "sheep             56\n",
      "sink            1073\n",
      "skateboard       463\n",
      "skis             364\n",
      "snowboard        248\n",
      "spoon            919\n",
      "sports ball     1301\n",
      "stop sign        394\n",
      "suitcase         318\n",
      "surfboard        508\n",
      "teddy bear       243\n",
      "tennis racket    682\n",
      "tie              685\n",
      "toaster           75\n",
      "toilet           570\n",
      "toothbrush       227\n",
      "traffic light    799\n",
      "train            126\n",
      "truck           1113\n",
      "tv              1006\n",
      "umbrella         468\n",
      "vase             661\n",
      "wine glass       502\n",
      "zebra             67\n",
      "\n",
      "[79 rows x 1 columns]\n"
     ]
    }
   ],
   "source": [
    "train_data = pd.read_csv('../Data/train_ann.csv')\n",
    "\n",
    "# Checking training examples per-class\n",
    "train_groups = train_data.groupby(['label'])\n",
    "count_df = train_groups.agg('count')\n",
    "\n",
    "print('Max Freq category:', train_data['label'].value_counts().idxmax())\n",
    "print('Min Freq category:',train_data['label'].value_counts().idxmin())\n",
    "print('Mean Freq:',train_data['label'].value_counts().mean())\n",
    "print(count_df)\n"
   ]
  },
  {
   "cell_type": "code",
   "execution_count": 17,
   "metadata": {},
   "outputs": [],
   "source": [
    "def writeann_multilabel(file):\n",
    "    maxl = 0\n",
    "    columns = ['name', 'label']\n",
    "    names = []\n",
    "    labels = []\n",
    "    with open(file, 'r') as f:\n",
    "        ann = json.loads(f.read())\n",
    "        for key in ann.keys():\n",
    "            img_dict = ann[key]\n",
    "            img_name = img_dict['name']\n",
    "            cat_list = img_dict['category']\n",
    "            maxl = max(maxl, len(cat_list))\n",
    "            category = \" \".join(cat_list)\n",
    "            names.append(img_name)\n",
    "            labels.append(category)\n",
    "        \n",
    "        data = pd.DataFrame(list(zip(names, labels)), columns=columns)\n",
    "#         data.to_csv('../Data/train_ml_ann.csv', index = False)                   "
   ]
  },
  {
   "cell_type": "code",
   "execution_count": 18,
   "metadata": {},
   "outputs": [
    {
     "name": "stdout",
     "output_type": "stream",
     "text": [
      "                    name                   label\n",
      "0  000000016164_left.png                     dog\n",
      "1  000000471175_left.png                     dog\n",
      "2  000000026654_left.png                     dog\n",
      "3  000000158497_left.png  spoon refrigerator dog\n",
      "4  000000390348_left.png                     dog\n",
      "5  000000369190_left.png                     dog\n",
      "6  000000151988_left.png              bottle dog\n",
      "7  000000307993_left.png                book dog\n",
      "8  000000007125_left.png                     dog\n",
      "9  000000346965_left.png                     dog\n"
     ]
    }
   ],
   "source": [
    "ann_dir = \"../../../Data/annotation\"\n",
    "train_fname = 'i2l_trainset_annotation.json'\n",
    "val_fname = 'i2l_valset_annotation.json'\n",
    "test_fname = 'i2l_testset_annotation.json'\n",
    "train_fname = os.path.join(ann_dir, train_fname)\n",
    "train_data = writeann_multilabel(train_fname)"
   ]
  },
  {
   "cell_type": "code",
   "execution_count": 54,
   "metadata": {},
   "outputs": [],
   "source": [
    "def writevalann(file):\n",
    "    maxl = 0\n",
    "    columns = ['name', 'label', 'WC1', 'WC2', 'WC3', 'WC4']\n",
    "    names = []\n",
    "    labels = []\n",
    "    WC1 = []\n",
    "    WC2 = []\n",
    "    WC3 = []\n",
    "    WC4 = []\n",
    "    with open(file, 'r') as f:\n",
    "        ann = json.loads(f.read())\n",
    "        for key in ann.keys():\n",
    "            img_dict = ann[key]\n",
    "            img_name = img_dict['name']\n",
    "            correct_cand = img_dict['correct_candidate']\n",
    "            wrong_cands = img_dict['wrong_candidate'] # four element always\n",
    "            names.append(img_name)\n",
    "            labels.append(correct_cand[0]) # only one element always\n",
    "            WC1.append(wrong_cands[0])\n",
    "            WC2.append(wrong_cands[1])\n",
    "            WC3.append(wrong_cands[2])\n",
    "            WC4.append(wrong_cands[3])\n",
    "    \n",
    "        data = pd.DataFrame(list(zip(names, labels, WC1, WC2, WC3, WC4)), columns=columns)\n",
    "#         data.to_csv('../Data/val_ann.csv', index = False)"
   ]
  },
  {
   "cell_type": "code",
   "execution_count": 55,
   "metadata": {},
   "outputs": [
    {
     "name": "stdout",
     "output_type": "stream",
     "text": [
      "                    name          label       WC1         WC2            WC3  \\\n",
      "0  000000116358_left.png    sports ball     sheep       apple       backpack   \n",
      "1  000000050179_left.png  tennis racket  airplane    elephant            tie   \n",
      "2  000000523571_left.png   dining table       car     frisbee     cell phone   \n",
      "3  000000531798_left.png           bowl      cake  wine glass     teddy bear   \n",
      "4  000000531798_left.png         banana    toilet         cup  parking meter   \n",
      "\n",
      "     WC4  \n",
      "0  mouse  \n",
      "1   kite  \n",
      "2  pizza  \n",
      "3  clock  \n",
      "4   vase  \n"
     ]
    }
   ],
   "source": [
    "ann_dir = \"../../../Data/annotation\"\n",
    "train_fname = 'i2l_trainset_annotation.json'\n",
    "val_fname = 'i2l_valset_annotation.json'\n",
    "test_fname = 'i2l_testset_annotation.json'\n",
    "val_fname = os.path.join(ann_dir, val_fname)\n",
    "val_data = writevalann(val_fname)\n"
   ]
  },
  {
   "cell_type": "code",
   "execution_count": 56,
   "metadata": {},
   "outputs": [],
   "source": [
    "def writetestann(file):\n",
    "    maxl = 0\n",
    "    columns = ['name', 'label', 'WC1', 'WC2', 'WC3', 'WC4']\n",
    "    names = []\n",
    "    labels = []\n",
    "    WC1 = []\n",
    "    WC2 = []\n",
    "    WC3 = []\n",
    "    WC4 = []\n",
    "    with open(file, 'r') as f:\n",
    "        ann = json.loads(f.read())\n",
    "        for key in ann.keys():\n",
    "            img_dict = ann[key]\n",
    "            img_name = img_dict['name']\n",
    "            correct_cand = img_dict['correct_candidate']\n",
    "            wrong_cands = img_dict['wrong_candidate'] # four element always\n",
    "            names.append(img_name)\n",
    "            labels.append(correct_cand[0]) # only one element always\n",
    "            WC1.append(wrong_cands[0])\n",
    "            WC2.append(wrong_cands[1])\n",
    "            WC3.append(wrong_cands[2])\n",
    "            WC4.append(wrong_cands[3])\n",
    "    \n",
    "        data = pd.DataFrame(list(zip(names, labels, WC1, WC2, WC3, WC4)), columns=columns)\n",
    "        data.to_csv('../Data/test_ann.csv', index = False)"
   ]
  },
  {
   "cell_type": "code",
   "execution_count": 57,
   "metadata": {},
   "outputs": [],
   "source": [
    "ann_dir = \"../../../Data/annotation\"\n",
    "train_fname = 'i2l_trainset_annotation.json'\n",
    "val_fname = 'i2l_valset_annotation.json'\n",
    "test_fname = 'i2l_testset_annotation.json'\n",
    "test_fname = os.path.join(ann_dir, test_fname)\n",
    "test_data = writetestann(test_fname)\n",
    "\n"
   ]
  },
  {
   "cell_type": "code",
   "execution_count": null,
   "metadata": {},
   "outputs": [],
   "source": []
  }
 ],
 "metadata": {
  "kernelspec": {
   "display_name": "Python 3",
   "language": "python",
   "name": "python3"
  },
  "language_info": {
   "codemirror_mode": {
    "name": "ipython",
    "version": 3
   },
   "file_extension": ".py",
   "mimetype": "text/x-python",
   "name": "python",
   "nbconvert_exporter": "python",
   "pygments_lexer": "ipython3",
   "version": "3.6.5"
  }
 },
 "nbformat": 4,
 "nbformat_minor": 2
}
